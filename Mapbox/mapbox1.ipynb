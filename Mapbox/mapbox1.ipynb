{
  "nbformat": 4,
  "nbformat_minor": 0,
  "metadata": {
    "colab": {
      "name": "mapbox1.ipynb",
      "provenance": [],
      "collapsed_sections": []
    },
    "kernelspec": {
      "name": "python3",
      "display_name": "Python 3"
    },
    "language_info": {
      "name": "python"
    }
  },
  "cells": [
    {
      "cell_type": "code",
      "source": [
        "# imports\n",
        "import panel as pn\n",
        "pn.extension('plotly')\n",
        "import plotly.express as px\n",
        "import pandas as pd\n",
        "import hvplot.pandas\n",
        "import matplotlib.pyplot as plt\n",
        "import os\n",
        "from pathlib import Path\n",
        "from dotenv import load_dotenv"
      ],
      "metadata": {
        "id": "yVn4MWGVOy-O"
      },
      "execution_count": null,
      "outputs": []
    },
    {
      "cell_type": "code",
      "source": [
        "# Read the Mapbox API key\n",
        "load_dotenv()\n",
        "map_box_api = os.getenv(\"mapbox\")\n",
        "px.set_mapbox_access_token(map_box_api)"
      ],
      "metadata": {
        "id": "lhvzbCmiO3wB"
      },
      "execution_count": null,
      "outputs": []
    },
    {
      "cell_type": "markdown",
      "source": [
        "**Load The Data**"
      ],
      "metadata": {
        "id": "wJHOu5IjO7rz"
      }
    },
    {
      "cell_type": "code",
      "source": [
        "# Read the census data into a Pandas DataFrame\n",
        "file_path = Path(\"C:/Users/Marcus/Class Notes/Unit 6 - Pythonic Monopoly/toronto_neighbourhoods_census_data.csv\")\n",
        "to_data = pd.read_csv(file_path, index_col=\"year\")\n",
        "to_data.head()"
      ],
      "metadata": {
        "id": "Z0ScKHdkO5f8"
      },
      "execution_count": null,
      "outputs": []
    },
    {
      "cell_type": "markdown",
      "source": [
        "**Dwelling Types Per Year**\n",
        "\n",
        "In this section, you will calculate the number of dwelling types per year. Visualize the results using bar charts and the Pandas plot function.\n",
        "\n",
        "Hint: Use the Pandas groupby function.\n",
        "\n",
        "Optional challenge: Plot each bar chart in a different color."
      ],
      "metadata": {
        "id": "_YgXmAQePE17"
      }
    },
    {
      "cell_type": "code",
      "source": [
        "# Calculate the sum number of dwelling types units per year (hint: use groupby)\n",
        "# YOUR CODE HERE!\n",
        "dwelling_per_year  = to_data[[\"single_detached_house\", \"apartment_five_storeys_plus\",\"movable_dwelling\",\"semi_detached_house\",\"row_house\",\"duplex\",\"apartment_five_storeys_less\",\"other_house\"]]\n",
        "\n",
        "dwelling_per_year_grp = dwelling_per_year.groupby(dwelling_per_year.index).sum()\n",
        "dwelling_per_year_grp"
      ],
      "metadata": {
        "id": "a-V1BDR6PCYK"
      },
      "execution_count": null,
      "outputs": []
    },
    {
      "cell_type": "code",
      "source": [
        "# Save the dataframe as a csv file\n",
        "# YOUR CODE HERE!\n",
        "filepath = Path('dwelling_per_year_grp.csv') \n",
        "dwelling_per_year_grp.to_csv(filepath)"
      ],
      "metadata": {
        "id": "od_tfHIXPMIT"
      },
      "execution_count": null,
      "outputs": []
    },
    {
      "cell_type": "code",
      "source": [
        "# Helper create_bar_chart function\n",
        "def create_bar_chart(data, title, xlabel, ylabel, color):\n",
        "    \"\"\"\n",
        "    Create a barplot based in the data argument.\n",
        "    \"\"\"\n",
        "    bar_plot = data.plot(kind=\"bar\",title=title,xlabel=xlabel,ylabel=ylabel,color=color)\n",
        "    return bar_plot"
      ],
      "metadata": {
        "id": "OPOiyaBYPOp2"
      },
      "execution_count": null,
      "outputs": []
    },
    {
      "cell_type": "code",
      "source": [
        "# Create a bar chart per year to show the number of dwelling types\n",
        "\n",
        "# Bar chart for 2001\n",
        "# YOUR CODE HERE!\n",
        "df_2001 = dwelling_per_year_grp.loc[2001]\n",
        "\n",
        "bar_plot_2001 = create_bar_chart(df_2001,\"Dwelling types in Toronto in 2001\",\"2001\",\"Dwelling type\",\"red\")\n",
        "bar_plot_2001"
      ],
      "metadata": {
        "id": "c6j22psbPQX4"
      },
      "execution_count": null,
      "outputs": []
    },
    {
      "cell_type": "code",
      "source": [
        "# Bar chart for 2006\n",
        "# YOUR CODE HERE!\n",
        "df_2006 = dwelling_per_year_grp.loc[2006]\n",
        "\n",
        "bar_plot_2006 = create_bar_chart(df_2006,\"Dwelling types in Toronto in 2006\",\"2006\",\"Dwelling type\",\"blue\")\n",
        "bar_plot_2006"
      ],
      "metadata": {
        "id": "qDmkOd0CPSoT"
      },
      "execution_count": null,
      "outputs": []
    },
    {
      "cell_type": "code",
      "source": [
        "# Bar chart for 2011\n",
        "# YOUR CODE HERE!\n",
        "df_2011 = dwelling_per_year_grp.loc[2011]\n",
        "\n",
        "bar_plot_2011 = create_bar_chart(df_2011,\"Dwelling types in Toronto in 2011\",\"2011\",\"Dwelling type\",\"orange\")\n",
        "bar_plot_2011"
      ],
      "metadata": {
        "id": "OqHDPoVVPUsC"
      },
      "execution_count": null,
      "outputs": []
    },
    {
      "cell_type": "code",
      "source": [
        "# Bar chart for 2016\n",
        "# YOUR CODE HERE!\n",
        "df_2016 = dwelling_per_year_grp.loc[2016]\n",
        "\n",
        "bar_plot_2016 = create_bar_chart(df_2016,\"Dwelling types in Toronto in 2016\",\"2016\",\"Dwelling type\",\"magenta\")\n",
        "bar_plot_2016"
      ],
      "metadata": {
        "id": "i7e7MAUJPWVc"
      },
      "execution_count": null,
      "outputs": []
    },
    {
      "cell_type": "markdown",
      "source": [
        "**Average Monthly Shelter Costs in Toronto Per Year**\n",
        "\n",
        "In this section, you will calculate the average monthly shelter costs for owned and rented dwellings and the average house value for each year. Plot the results as a line chart.\n",
        "\n",
        "Optional challenge: Plot each line chart in a different color."
      ],
      "metadata": {
        "id": "XpWA3W99PbYi"
      }
    },
    {
      "cell_type": "code",
      "source": [
        "# Calculate the average monthly shelter costs for owned and rented dwellings\n",
        "# YOUR CODE HERE!\n",
        "shelter_costs = to_data[[\"shelter_costs_owned\",\"shelter_costs_rented\"]]\n",
        "average_monthly_shelter_year = (shelter_costs.groupby(\"year\").mean())\n",
        "average_monthly_shelter_year"
      ],
      "metadata": {
        "id": "QIXSzoqGPYKU"
      },
      "execution_count": null,
      "outputs": []
    },
    {
      "cell_type": "code",
      "source": [
        "# Helper create_line_chart function\n",
        "def create_line_chart(data, title, xlabel, ylabel, color):\n",
        "    \"\"\"\n",
        "    Create a line chart based in the data argument.\n",
        "    \"\"\"\n",
        "    line_chart = data.plot(kind=\"line\",title=title,xlabel=xlabel,ylabel=ylabel,color=color)\n",
        "    return line_chart"
      ],
      "metadata": {
        "id": "vBseGQ2YPhp0"
      },
      "execution_count": null,
      "outputs": []
    },
    {
      "cell_type": "code",
      "source": [
        "# Create two line charts, one to plot the monthly shelter costs for owned dwelleing and other for rented dwellings per year\n",
        "\n",
        "# Line chart for owned dwellings\n",
        "# YOUR CODE HERE!\n",
        "owned_dwellings = average_monthly_shelter_year[\"shelter_costs_owned\"]\n",
        "create_line_chart(owned_dwellings,\"Average Monthly Shelter Costs for Owned Dwellings in Toronto\",\"Year\",\"Average Monthly Shelter Costs for Owned Dwellings in Toronto\",\"blue\")\n"
      ],
      "metadata": {
        "id": "NbEWGqP1PiQd"
      },
      "execution_count": null,
      "outputs": []
    },
    {
      "cell_type": "code",
      "source": [
        "# Line chart for rented dwellings\n",
        "# YOUR CODE HERE!\n",
        "rented_dwellings = average_monthly_shelter_year[\"shelter_costs_rented\"]\n",
        "create_line_chart(rented_dwellings,\"Average Monthly Shelter Costs for Owned Dwellings in Toronto\",\"Year\",\"Average Monthly Shelter Costs for Rented Dwellings in Toronto\",\"orange\")\n"
      ],
      "metadata": {
        "id": "27dJdIdKPo_K"
      },
      "execution_count": null,
      "outputs": []
    },
    {
      "cell_type": "markdown",
      "source": [
        "**Average House Value per Year**\n",
        "\n",
        "In this section, you want to determine the average house value per year. An investor may want to understand better the sales price of the rental property over time. For example, a customer will want to know if they should expect an increase or decrease in the property value over time so they can determine how long to hold the rental property. You will visualize the average_house_value per year as a bar chart."
      ],
      "metadata": {
        "id": "ZFLHg2CyPxJI"
      }
    },
    {
      "cell_type": "code",
      "source": [
        "# Calculate the average house value per year\n",
        "# YOUR CODE HERE!\n",
        "average_house_value_df  = to_data[\"average_house_value\"]\n",
        "average_house_value_by_year = average_house_value_df.groupby(\"year\").mean()\n",
        "average_house_value_by_year"
      ],
      "metadata": {
        "id": "428JJqjAPwWp"
      },
      "execution_count": null,
      "outputs": []
    },
    {
      "cell_type": "code",
      "source": [
        "# Plot the average house value per year as a line chart\n",
        "# YOUR CODE HERE!\n",
        "create_line_chart(average_house_value_by_year,\"Average House Value in Toronto\",\"Year\",\"Average House Value\",\"steelblue\")"
      ],
      "metadata": {
        "id": "c85hkOhLP3JG"
      },
      "execution_count": null,
      "outputs": []
    },
    {
      "cell_type": "markdown",
      "source": [
        "**Average House Value by Neighbourhood**\n",
        "\n",
        "In this section, you will use hvplot to create an interactive visualization of the average house value with a dropdown selector for the neighbourhood.\n",
        "\n",
        "Hint: It will be easier to create a new DataFrame from grouping the data and calculating the mean house values for each year and neighbourhood."
      ],
      "metadata": {
        "id": "HA2ocHxtP62y"
      }
    },
    {
      "cell_type": "code",
      "source": [
        "# Create a new DataFrame with the mean house values by neighbourhood per year\n",
        "# YOUR CODE HERE!\n",
        "average_house_value_by_neighbourhood_df = to_data[[\"neighbourhood\",\"average_house_value\"]].groupby([\"year\",\"neighbourhood\"]).mean()\n",
        "average_house_value_by_neighbourhood_df = average_house_value_by_neighbourhood_df.reset_index()\n",
        "average_house_value_by_neighbourhood_df\n"
      ],
      "metadata": {
        "id": "24FtOzFAP45L"
      },
      "execution_count": null,
      "outputs": []
    },
    {
      "cell_type": "code",
      "source": [
        "average_house_value_by_neighbourhood_df.hvplot(kind=\"line\", x=\"year\", y=\"average_house_value\", width=900, groupby=\"neighbourhood\",widget_location=\"top_left\")\n"
      ],
      "metadata": {
        "id": "uAchLp2oP_3T"
      },
      "execution_count": null,
      "outputs": []
    },
    {
      "cell_type": "markdown",
      "source": [
        "**Number of Dwelling Types per Year**\n",
        "\n",
        "In this section, you will use hvplot to create an interactive visualization of the average number of dwelling types per year with a dropdown selector for the neighbourhood."
      ],
      "metadata": {
        "id": "0m_btDVdQJM6"
      }
    },
    {
      "cell_type": "code",
      "source": [
        "# Fetch the data of all dwelling types per year\n",
        "# YOUR CODE HERE!\n",
        "to_data = pd.read_csv(file_path)\n",
        "dwelling_types_year = to_data.drop(columns=[\"average_house_value\"])\n",
        "dwelling_types_year.head()"
      ],
      "metadata": {
        "id": "dLpPjlOQQLih"
      },
      "execution_count": null,
      "outputs": []
    },
    {
      "cell_type": "code",
      "source": [
        "dwelling_types_year.hvplot(kind=\"bar\", x='year', rot=90 , xlabel=\"year\",ylabel=\"dwelling type units\",groupby=\"neighbourhood\",widget_location=\"top_left\", width=900)\n"
      ],
      "metadata": {
        "id": "pCNEb-J9QNKL"
      },
      "execution_count": null,
      "outputs": []
    },
    {
      "cell_type": "markdown",
      "source": [
        "**The Top 10 Most Expensive Neighbourhoods**\n",
        "\n",
        "In this section, you will need to calculate the house value for each neighbourhood and then sort the values to obtain the top 10 most expensive neighbourhoods on average. Plot the results as a bar chart."
      ],
      "metadata": {
        "id": "y7Wibq_hQTvD"
      }
    },
    {
      "cell_type": "code",
      "source": [
        "# Getting the data from the top 10 expensive neighbourhoods\n",
        "# YOUR CODE HERE!\n",
        "neighbourhood_avg_house_value_years  = to_data[[\"neighbourhood\",\"average_house_value\"]]\n",
        "neighbourhood_avg_house_value_mean = neighbourhood_avg_house_value_years.groupby(\"neighbourhood\").mean()\n",
        "neighbourhood_avg_house_value_mean_sorted=neighbourhood_avg_house_value_mean.sort_values(by=['average_house_value'], ascending=False)\n",
        "neighbourhood_avg_house_value_top10 = neighbourhood_avg_house_value_mean_sorted.head(10)"
      ],
      "metadata": {
        "id": "GYvrnQZRQPf_"
      },
      "execution_count": null,
      "outputs": []
    },
    {
      "cell_type": "code",
      "source": [
        "# Plotting the data from the top 10 expensive neighbourhoods\n",
        "# YOUR CODE HERE!\n",
        "neighbourhood_avg_house_value_top10\n",
        "neighbourhood_avg_house_value_top10.hvplot.bar(rot=90,width=800, height=600)"
      ],
      "metadata": {
        "id": "iqvApkI3Qabp"
      },
      "execution_count": null,
      "outputs": []
    },
    {
      "cell_type": "markdown",
      "source": [
        "**Neighbourhood Map**\n",
        "\n",
        "In this section, you will read in neighbourhoods location data and build an interactive map with the average house value per neighbourhood. Use a scatter_mapbox from Plotly express to create the visualization. Remember, you will need your Mapbox API key for this."
      ],
      "metadata": {
        "id": "AEb766hmQd6p"
      }
    },
    {
      "cell_type": "markdown",
      "source": [
        "**Load Location Data**\n"
      ],
      "metadata": {
        "id": "_GX0W_4RQjiA"
      }
    },
    {
      "cell_type": "code",
      "source": [
        "# Load neighbourhoods coordinates data\n",
        "file_path = Path(\"C:/Users/Marcus/Class Notes/Unit 6 - Pythonic Monopoly/toronto_neighbourhoods_coordinates.csv\")\n",
        "df_neighbourhood_locations = pd.read_csv(file_path)\n",
        "df_neighbourhood_locations.head()"
      ],
      "metadata": {
        "id": "1d4JFkw1QcXA"
      },
      "execution_count": null,
      "outputs": []
    },
    {
      "cell_type": "markdown",
      "source": [
        "**Data Preparation**\n",
        "\n",
        "You will need to join the location data with the mean values per neighbourhood.\n",
        "\n",
        "Calculate the mean values for each neighbourhood.\n",
        "\n",
        "Join the average values with the neighbourhood locations."
      ],
      "metadata": {
        "id": "r231b0uiQqJS"
      }
    },
    {
      "cell_type": "code",
      "source": [
        "# Calculate the mean values for each neighborhood\n",
        "# YOUR CODE HERE!\n",
        "neighbourhood_avg_house_value_mean = neighbourhood_avg_house_value_mean.reset_index()\n",
        "neighbourhood_avg_house_value_mean\n"
      ],
      "metadata": {
        "id": "Bh_T5uDbQn8Z"
      },
      "execution_count": null,
      "outputs": []
    },
    {
      "cell_type": "code",
      "source": [
        "# Join the average values with the neighbourhood locations\n",
        "# YOUR CODE HERE!\n",
        "avg_values_with_location_df = pd.concat([df_neighbourhood_locations,neighbourhood_avg_house_value_mean], axis=\"columns\", join=\"inner\")\n",
        "avg_values_with_location_df = avg_values_with_location_df.loc[:,~avg_values_with_location_df.columns.duplicated()]\n",
        "avg_values_with_location_df"
      ],
      "metadata": {
        "id": "0pITPn4BQvY6"
      },
      "execution_count": null,
      "outputs": []
    },
    {
      "cell_type": "markdown",
      "source": [
        "**Mapbox Visualization**\n",
        "\n",
        "Plot the average values per neighbourhood using a Plotly express scatter_mapbox visualization."
      ],
      "metadata": {
        "id": "I_H60kMUQ06i"
      }
    },
    {
      "cell_type": "code",
      "source": [
        "# Create a scatter mapbox to analyze neighbourhood info\n",
        "# YOUR CODE HERE!\n",
        "map_plot = px.scatter_mapbox(\n",
        "    avg_values_with_location_df,\n",
        "    lat=\"lat\",\n",
        "    lon=\"lon\",\n",
        "    size=\"average_house_value\",\n",
        "    color=\"neighbourhood\",\n",
        "    zoom=8\n",
        ")\n",
        "\n",
        "# Display the map\n",
        "map_plot.show()"
      ],
      "metadata": {
        "id": "z2kxL3IhQxQ9"
      },
      "execution_count": null,
      "outputs": []
    },
    {
      "cell_type": "code",
      "source": [
        ""
      ],
      "metadata": {
        "id": "JgAac8XKQIw5"
      },
      "execution_count": null,
      "outputs": []
    }
  ]
}